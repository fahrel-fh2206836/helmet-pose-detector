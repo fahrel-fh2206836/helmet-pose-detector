{
 "cells": [
  {
   "cell_type": "code",
   "execution_count": 45,
   "id": "48af9f68-51e2-439b-b43d-b0ba25f1cd48",
   "metadata": {},
   "outputs": [],
   "source": [
    "import os\n",
    "import torch\n",
    "import torch.nn as nn\n",
    "import torch.optim as optim\n",
    "from torchvision import datasets, transforms, models\n",
    "from torch.utils.data import DataLoader, random_split\n",
    "from sklearn.metrics import confusion_matrix, classification_report\n",
    "import matplotlib.pyplot as plt\n",
    "import seaborn as sns\n",
    "from PIL import Image\n",
    "import numpy as np"
   ]
  },
  {
   "cell_type": "code",
   "execution_count": 47,
   "id": "6abf14ca-9186-4f69-bcc4-eecedd884f6b",
   "metadata": {},
   "outputs": [],
   "source": [
    "# import os\n",
    "# import hashlib\n",
    "\n",
    "# def remove_exact_duplicates(folder_path):\n",
    "#     seen = set()\n",
    "#     removed = 0\n",
    "\n",
    "#     for subdir, _, files in os.walk(folder_path):\n",
    "#         for file in files:\n",
    "#             path = os.path.join(subdir, file)\n",
    "#             try:\n",
    "#                 with open(path, 'rb') as f:\n",
    "#                     file_hash = hashlib.md5(f.read()).hexdigest()\n",
    "#                 if file_hash in seen:\n",
    "#                     os.remove(path)\n",
    "#                     removed += 1\n",
    "#                 else:\n",
    "#                     seen.add(file_hash)\n",
    "#             except Exception as e:\n",
    "#                 print(f\"Error processing {path}: {e}\")\n",
    "\n",
    "#     print(f\"Removed {removed} exact duplicate image(s).\")\n",
    "\n",
    "# # Run this on your dataset\n",
    "# remove_exact_duplicates(\"helmet_dataset\")\n"
   ]
  },
  {
   "cell_type": "code",
   "execution_count": 49,
   "id": "e479ea21-289d-41ae-b0cd-caf1471f21cd",
   "metadata": {},
   "outputs": [
    {
     "name": "stdout",
     "output_type": "stream",
     "text": [
      "['.DS_Store', 'not_looking', 'looking']\n"
     ]
    }
   ],
   "source": [
    "# --- SETTINGS ---\n",
    "dataset_path = \"helmet_dataset\"\n",
    "batch_size = 8\n",
    "image_size = 224\n",
    "epochs = 8\n",
    "lr = 0.001\n",
    "print(os.listdir(\"helmet_dataset\"))\n"
   ]
  },
  {
   "cell_type": "code",
   "execution_count": 51,
   "id": "8338df74-ddce-4eba-a08a-b1a81e2ca0f0",
   "metadata": {},
   "outputs": [
    {
     "name": "stdout",
     "output_type": "stream",
     "text": [
      "Using device: cpu\n"
     ]
    }
   ],
   "source": [
    "# --- DEVICE ---\n",
    "device = torch.device(\"cuda\" if torch.cuda.is_available() else \"cpu\")\n",
    "print(f\"Using device: {device}\")"
   ]
  },
  {
   "cell_type": "code",
   "execution_count": 53,
   "id": "cb485cfd-2bcc-49cc-ac1f-db7dd4388ec5",
   "metadata": {},
   "outputs": [],
   "source": [
    "# --- SAFETY LOADER ---\n",
    "def pil_loader(path):\n",
    "    with open(path, 'rb') as f:\n",
    "        img = Image.open(f)\n",
    "        return img.convert('RGB')"
   ]
  },
  {
   "cell_type": "code",
   "execution_count": 55,
   "id": "2db7545c-23a7-4b6c-818c-33ce1cb8ff52",
   "metadata": {},
   "outputs": [],
   "source": [
    "# --- TRANSFORM ---\n",
    "transform = transforms.Compose([\n",
    "    transforms.Resize((256, 256)),\n",
    "    transforms.CenterCrop(224),\n",
    "    transforms.ColorJitter(brightness=0.2, contrast=0.2),\n",
    "    transforms.RandomHorizontalFlip(),\n",
    "    transforms.RandomRotation(10),\n",
    "    transforms.ToTensor()\n",
    "])"
   ]
  },
  {
   "cell_type": "code",
   "execution_count": 57,
   "id": "056d5461-b0f1-4071-ab1c-0e50e6af8a75",
   "metadata": {},
   "outputs": [],
   "source": [
    "import shutil\n",
    "\n",
    "# Delete any .ipynb_checkpoints inside helmet_dataset\n",
    "checkpoints_path = os.path.join(dataset_path, \".ipynb_checkpoints\")\n",
    "if os.path.exists(checkpoints_path):\n",
    "    shutil.rmtree(checkpoints_path)\n",
    "    print(\"Removed .ipynb_checkpoints folder.\")"
   ]
  },
  {
   "cell_type": "code",
   "execution_count": 59,
   "id": "d7d1b8c1-db69-453c-a731-383433c5568f",
   "metadata": {},
   "outputs": [
    {
     "name": "stdout",
     "output_type": "stream",
     "text": [
      "Classes: ['looking', 'not_looking']\n",
      "Class-to-index: {'looking': 0, 'not_looking': 1}\n"
     ]
    }
   ],
   "source": [
    "# --- DATASET ---\n",
    "def is_valid_image(path):\n",
    "    return not any(x in path for x in ['.DS_Store', '.ipynb_checkpoints'])\n",
    "    \n",
    "dataset = datasets.ImageFolder(\n",
    "    root=dataset_path,\n",
    "    transform=transform,\n",
    "    loader=pil_loader,\n",
    "    is_valid_file=is_valid_image\n",
    ")\n",
    "print(\"Classes:\", dataset.classes)\n",
    "print(\"Class-to-index:\", dataset.class_to_idx)"
   ]
  },
  {
   "cell_type": "code",
   "execution_count": 61,
   "id": "f2903c43-2073-40f4-b65c-8116a87a52b1",
   "metadata": {},
   "outputs": [
    {
     "name": "stdout",
     "output_type": "stream",
     "text": [
      "Train set size: 560\n",
      "Val set size: 140\n",
      "Train class counts: Counter({0: 282, 1: 278})\n",
      "Val class counts: Counter({0: 70, 1: 70})\n"
     ]
    }
   ],
   "source": [
    "from sklearn.model_selection import StratifiedShuffleSplit\n",
    "from collections import Counter\n",
    "\n",
    "# Use full dataset (700 images)\n",
    "targets = dataset.targets  # From ImageFolder\n",
    "\n",
    "# Change test_size here: 0.2 = 80/20, 0.3 = 70/30\n",
    "splitter = StratifiedShuffleSplit(n_splits=1, test_size=0.2, random_state=42)\n",
    "\n",
    "for train_idx, val_idx in splitter.split(np.zeros(len(targets)), targets):\n",
    "    train_dataset = torch.utils.data.Subset(dataset, train_idx)\n",
    "    val_dataset = torch.utils.data.Subset(dataset, val_idx)\n",
    "\n",
    "# Optional: Verify class balance\n",
    "print(\"Train set size:\", len(train_dataset))\n",
    "print(\"Val set size:\", len(val_dataset))\n",
    "\n",
    "train_labels = [dataset.targets[i] for i in train_dataset.indices]\n",
    "val_labels = [dataset.targets[i] for i in val_dataset.indices]\n",
    "print(\"Train class counts:\", Counter(train_labels))\n",
    "print(\"Val class counts:\", Counter(val_labels))"
   ]
  },
  {
   "cell_type": "code",
   "execution_count": 63,
   "id": "b246f991-1e4a-4ae9-be65-a5aa05101495",
   "metadata": {},
   "outputs": [],
   "source": [
    "train_loader = DataLoader(train_dataset, batch_size=batch_size, shuffle=True)\n",
    "val_loader = DataLoader(val_dataset, batch_size=batch_size, shuffle=False)"
   ]
  },
  {
   "cell_type": "code",
   "execution_count": 65,
   "id": "7460eee3-7316-4ed3-9785-f099a07c211b",
   "metadata": {},
   "outputs": [
    {
     "ename": "NameError",
     "evalue": "name 'resnet50' is not defined",
     "output_type": "error",
     "traceback": [
      "\u001b[0;31m---------------------------------------------------------------------------\u001b[0m",
      "\u001b[0;31mNameError\u001b[0m                                 Traceback (most recent call last)",
      "Cell \u001b[0;32mIn[65], line 2\u001b[0m\n\u001b[1;32m      1\u001b[0m \u001b[38;5;66;03m# --- MODEL ---\u001b[39;00m\n\u001b[0;32m----> 2\u001b[0m model \u001b[38;5;241m=\u001b[39m resnet50(pretrained\u001b[38;5;241m=\u001b[39m\u001b[38;5;28;01mTrue\u001b[39;00m)\n\u001b[1;32m      3\u001b[0m model\u001b[38;5;241m.\u001b[39mfc \u001b[38;5;241m=\u001b[39m nn\u001b[38;5;241m.\u001b[39mLinear(model\u001b[38;5;241m.\u001b[39mfc\u001b[38;5;241m.\u001b[39min_features, \u001b[38;5;241m2\u001b[39m)\n\u001b[1;32m      4\u001b[0m model \u001b[38;5;241m=\u001b[39m model\u001b[38;5;241m.\u001b[39mto(device)\n",
      "\u001b[0;31mNameError\u001b[0m: name 'resnet50' is not defined"
     ]
    }
   ],
   "source": [
    "# --- MODEL ---\n",
    "model = resnet50(pretrained=True)\n",
    "model.fc = nn.Linear(model.fc.in_features, 2)\n",
    "model = model.to(device)"
   ]
  },
  {
   "cell_type": "code",
   "execution_count": 67,
   "id": "497d2bee-fdc2-43e4-92ff-5bacf72e0ec9",
   "metadata": {},
   "outputs": [],
   "source": [
    "# --- LOSS & OPTIMIZER ---\n",
    "criterion = nn.CrossEntropyLoss()\n",
    "optimizer = optim.Adam(model.parameters(), lr=lr)"
   ]
  },
  {
   "cell_type": "code",
   "execution_count": 69,
   "id": "44d971fc-05a0-4081-9103-94acc0d96441",
   "metadata": {},
   "outputs": [],
   "source": [
    "# --- METRICS TRACKING ---\n",
    "train_losses = []\n",
    "val_accuracies = []"
   ]
  },
  {
   "cell_type": "code",
   "execution_count": 71,
   "id": "184d3c82-4fa8-4f50-bfcc-468fda5615f2",
   "metadata": {},
   "outputs": [
    {
     "name": "stdout",
     "output_type": "stream",
     "text": [
      "Epoch 1/8 - Loss: 0.4825 - Val Accuracy: 80.00%\n",
      "Epoch 2/8 - Loss: 0.3129 - Val Accuracy: 64.29%\n",
      "Epoch 3/8 - Loss: 0.3988 - Val Accuracy: 80.00%\n",
      "Epoch 4/8 - Loss: 0.3698 - Val Accuracy: 79.29%\n",
      "Epoch 5/8 - Loss: 0.3043 - Val Accuracy: 81.43%\n",
      "Epoch 6/8 - Loss: 0.2176 - Val Accuracy: 81.43%\n",
      "Epoch 7/8 - Loss: 0.3156 - Val Accuracy: 81.43%\n",
      "Epoch 8/8 - Loss: 0.2748 - Val Accuracy: 80.00%\n"
     ]
    }
   ],
   "source": [
    "# --- TRAINING LOOP ---\n",
    "for epoch in range(epochs):\n",
    "    model.train()\n",
    "    running_loss = 0.0\n",
    "\n",
    "    for images, labels in train_loader:\n",
    "        images, labels = images.to(device), labels.to(device)\n",
    "\n",
    "        outputs = model(images)\n",
    "        loss = criterion(outputs, labels)\n",
    "\n",
    "        optimizer.zero_grad()\n",
    "        loss.backward()\n",
    "        optimizer.step()\n",
    "\n",
    "        running_loss += loss.item() * images.size(0)\n",
    "\n",
    "    epoch_loss = running_loss / len(train_loader.dataset)\n",
    "    train_losses.append(epoch_loss)\n",
    "\n",
    "    # --- VALIDATION ---\n",
    "    model.eval()\n",
    "    correct = 0\n",
    "    total = 0\n",
    "    all_preds = []\n",
    "    all_labels = []\n",
    "\n",
    "    with torch.no_grad():\n",
    "        for images, labels in val_loader:\n",
    "            images, labels = images.to(device), labels.to(device)\n",
    "            outputs = model(images)\n",
    "            _, predicted = torch.max(outputs, 1)\n",
    "\n",
    "            all_preds.extend(predicted.cpu().numpy())\n",
    "            all_labels.extend(labels.cpu().numpy())\n",
    "            correct += (predicted == labels).sum().item()\n",
    "            total += labels.size(0)\n",
    "\n",
    "    accuracy = 100 * correct / total\n",
    "    val_accuracies.append(accuracy)\n",
    "\n",
    "    print(f\"Epoch {epoch+1}/{epochs} - Loss: {epoch_loss:.4f} - Val Accuracy: {accuracy:.2f}%\")"
   ]
  },
  {
   "cell_type": "code",
   "execution_count": 73,
   "id": "82f410ea-1f53-4ff4-8af3-c2de9ea298ee",
   "metadata": {},
   "outputs": [
    {
     "name": "stdout",
     "output_type": "stream",
     "text": [
      "\n",
      "Classification Report:\n",
      "              precision    recall  f1-score   support\n",
      "\n",
      "     looking       0.83      0.76      0.79        70\n",
      " not_looking       0.78      0.84      0.81        70\n",
      "\n",
      "    accuracy                           0.80       140\n",
      "   macro avg       0.80      0.80      0.80       140\n",
      "weighted avg       0.80      0.80      0.80       140\n",
      "\n"
     ]
    }
   ],
   "source": [
    "# --- FINAL REPORT ---\n",
    "print(\"\\nClassification Report:\")\n",
    "print(classification_report(all_labels, all_preds, target_names=dataset.classes))"
   ]
  },
  {
   "cell_type": "code",
   "execution_count": 75,
   "id": "8f2e2007-5f58-4694-9993-802cee8d563f",
   "metadata": {},
   "outputs": [
    {
     "data": {
      "image/png": "[encoded data removed]",
      "text/plain": [
       "<Figure size 600x500 with 2 Axes>"
      ]
     },
     "metadata": {},
     "output_type": "display_data"
    }
   ],
   "source": [
    "# --- CONFUSION MATRIX ---\n",
    "cm = confusion_matrix(all_labels, all_preds)\n",
    "plt.figure(figsize=(6,5))\n",
    "sns.heatmap(cm, annot=True, fmt='d', cmap='Blues', xticklabels=dataset.classes, yticklabels=dataset.classes)\n",
    "plt.title(\"Confusion Matrix\")\n",
    "plt.xlabel(\"Predicted\")\n",
    "plt.ylabel(\"Actual\")\n",
    "plt.show()"
   ]
  },
  {
   "cell_type": "code",
   "execution_count": 77,
   "id": "6cc54cd2-cf33-43b3-98d2-c5c441bca615",
   "metadata": {},
   "outputs": [
    {
     "data": {
      "image/png": "[encoded data removed]",
      "text/plain": [
       "<Figure size 1200x500 with 2 Axes>"
      ]
     },
     "metadata": {},
     "output_type": "display_data"
    }
   ],
   "source": [
    "# --- PLOTS ---\n",
    "plt.figure(figsize=(12, 5))\n",
    "\n",
    "plt.subplot(1, 2, 1)\n",
    "plt.plot(train_losses, label='Train Loss', color='red')\n",
    "plt.title(\"Training Loss Over Epochs\")\n",
    "plt.xlabel(\"Epoch\")\n",
    "plt.ylabel(\"Loss\")\n",
    "plt.grid(True)\n",
    "plt.legend()\n",
    "\n",
    "plt.subplot(1, 2, 2)\n",
    "plt.plot(val_accuracies, label='Validation Accuracy', color='blue')\n",
    "plt.title(\"Validation Accuracy Over Epochs\")\n",
    "plt.xlabel(\"Epoch\")\n",
    "plt.ylabel(\"Accuracy (%)\")\n",
    "plt.grid(True)\n",
    "plt.legend()\n",
    "\n",
    "plt.tight_layout()\n",
    "plt.show()"
   ]
  },
  {
   "cell_type": "code",
   "execution_count": null,
   "id": "5cc3646e-e051-4171-8ae6-029ca495fafd",
   "metadata": {},
   "outputs": [],
   "source": []
  },
  {
   "cell_type": "code",
   "execution_count": null,
   "id": "bab1df41-fbee-48b0-9074-52975ded43ab",
   "metadata": {},
   "outputs": [],
   "source": []
  },
  {
   "cell_type": "code",
   "execution_count": null,
   "id": "3d494e11-38b3-4b9d-8ced-6df0a6e71c76",
   "metadata": {},
   "outputs": [],
   "source": []
  },
  {
   "cell_type": "code",
   "execution_count": null,
   "id": "6fe73bab-63c4-472a-be34-3b0309cd77b4",
   "metadata": {},
   "outputs": [],
   "source": []
  },
  {
   "cell_type": "code",
   "execution_count": null,
   "id": "07df5733-084a-455b-9f06-b473c7a3dc7b",
   "metadata": {},
   "outputs": [],
   "source": []
  },
  {
   "cell_type": "code",
   "execution_count": null,
   "id": "06a9e3c1-e2d0-4d03-bb96-ce8d76734a82",
   "metadata": {},
   "outputs": [],
   "source": []
  }
 ],
 "metadata": {
  "kernelspec": {
   "display_name": "Python [conda env:base] *",
   "language": "python",
   "name": "conda-base-py"
  },
  "language_info": {
   "codemirror_mode": {
    "name": "ipython",
    "version": 3
   },
   "file_extension": ".py",
   "mimetype": "text/x-python",
   "name": "python",
   "nbconvert_exporter": "python",
   "pygments_lexer": "ipython3",
   "version": "3.12.7"
  }
 },
 "nbformat": 4,
 "nbformat_minor": 5
}
